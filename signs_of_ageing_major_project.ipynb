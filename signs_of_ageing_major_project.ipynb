{
 "cells": [
  {
   "cell_type": "code",
   "execution_count": 20,
   "metadata": {
    "colab": {
     "base_uri": "https://localhost:8080/"
    },
    "id": "sUbpNtQ5SGQw",
    "outputId": "0b92af21-4671-4639-c79a-fe160f8982cb"
   },
   "outputs": [
    {
     "ename": "ModuleNotFoundError",
     "evalue": "No module named 'google.colab'",
     "output_type": "error",
     "traceback": [
      "\u001B[1;31m---------------------------------------------------------------------------\u001B[0m",
      "\u001B[1;31mModuleNotFoundError\u001B[0m                       Traceback (most recent call last)",
      "Input \u001B[1;32mIn [20]\u001B[0m, in \u001B[0;36m<cell line: 1>\u001B[1;34m()\u001B[0m\n\u001B[1;32m----> 1\u001B[0m \u001B[38;5;28;01mfrom\u001B[39;00m \u001B[38;5;21;01mgoogle\u001B[39;00m\u001B[38;5;21;01m.\u001B[39;00m\u001B[38;5;21;01mcolab\u001B[39;00m \u001B[38;5;28;01mimport\u001B[39;00m drive\n\u001B[0;32m      2\u001B[0m drive\u001B[38;5;241m.\u001B[39mmount(\u001B[38;5;124m'\u001B[39m\u001B[38;5;124m/content/drive\u001B[39m\u001B[38;5;124m'\u001B[39m)\n",
      "\u001B[1;31mModuleNotFoundError\u001B[0m: No module named 'google.colab'"
     ]
    }
   ],
   "source": [
    "from google.colab import drive\n",
    "drive.mount('/content/drive')"
   ]
  },
  {
   "cell_type": "code",
   "execution_count": null,
   "metadata": {
    "id": "xB8BWo11AjV7"
   },
   "outputs": [],
   "source": [
    "#importing os to access files from the system"
   ]
  },
  {
   "cell_type": "code",
   "execution_count": null,
   "metadata": {
    "id": "oQTXbCOL_f09"
   },
   "outputs": [],
   "source": [
    "import os\n",
    "import cv2\n",
    "import imutils"
   ]
  },
  {
   "cell_type": "code",
   "execution_count": null,
   "metadata": {
    "id": "kURAPKsp_f1B"
   },
   "outputs": [],
   "source": [
    "features=[]\n",
    "target=[]"
   ]
  },
  {
   "cell_type": "code",
   "execution_count": null,
   "metadata": {
    "id": "M27bd5RrAzT-"
   },
   "outputs": [],
   "source": []
  },
  {
   "cell_type": "code",
   "execution_count": null,
   "metadata": {
    "colab": {
     "base_uri": "https://localhost:8080/"
    },
    "id": "WF4P7CGs_f1C",
    "outputId": "e6fb5eb4-d06a-4d5d-8485-94d4cf1aa557"
   },
   "outputs": [],
   "source": [
    "for x in[\"clear face\",\"dark spots\",\"puffy eyes\",\"wrinkles\"]: #considering 4 possibilities clear face, dark spots, puffy eyes and wrinkles\n",
    "    ImagesNamesList=os.listdir(\"/content/drive/MyDrive/verzeo_ageing_dataset (1)\" + \"/\" + str(x))\n",
    "    for y in ImagesNamesList:\n",
    "        Imgarr=cv2.imread(\"/content/drive/MyDrive/verzeo_ageing_dataset (1)\" + \"/\" + str(x) + \"/\" + y)\n",
    "        try:\n",
    "            Imgarr=cv2.resize(Imgarr,(244,244))\n",
    "            features.append(Imgarr)\n",
    "        except:\n",
    "            pass\n",
    "        else:\n",
    "            if x==\"clear face \":\n",
    "                target.append(0)\n",
    "            elif x==\"dark spots\":\n",
    "                target.append(1) \n",
    "            elif x==\"puffy eyes\":\n",
    "                target.append(2)\n",
    "            else:\n",
    "                target.append(3)\n",
    "    print(\"In Folder\", x)"
   ]
  },
  {
   "cell_type": "code",
   "execution_count": null,
   "metadata": {
    "id": "OT3nkMIp_f1D"
   },
   "outputs": [],
   "source": [
    "import numpy as np"
   ]
  },
  {
   "cell_type": "code",
   "execution_count": null,
   "metadata": {
    "id": "6T9NXfwD_f1D"
   },
   "outputs": [],
   "source": [
    "features=np.array(features)\n",
    "target=np.array(target)"
   ]
  },
  {
   "cell_type": "code",
   "execution_count": null,
   "metadata": {
    "colab": {
     "base_uri": "https://localhost:8080/"
    },
    "id": "Ev3a0-2c_f1E",
    "outputId": "58f29d5d-8475-4185-f5ac-690bb76c3973"
   },
   "outputs": [],
   "source": [
    "features.shape"
   ]
  },
  {
   "cell_type": "code",
   "execution_count": null,
   "metadata": {
    "colab": {
     "base_uri": "https://localhost:8080/"
    },
    "id": "lCPwkPeb_f1E",
    "outputId": "74a7f7e9-080b-4b8a-f647-87d1f1f78484"
   },
   "outputs": [],
   "source": [
    "target.shape"
   ]
  },
  {
   "cell_type": "code",
   "execution_count": null,
   "metadata": {
    "id": "9ZVBwftJBTlz"
   },
   "outputs": [],
   "source": [
    "#splitting the data into testing and training"
   ]
  },
  {
   "cell_type": "code",
   "execution_count": null,
   "metadata": {
    "id": "h2frlsxG_f1E"
   },
   "outputs": [],
   "source": [
    "from sklearn.model_selection import train_test_split"
   ]
  },
  {
   "cell_type": "code",
   "execution_count": null,
   "metadata": {
    "id": "wzDfK8i-_f1F"
   },
   "outputs": [],
   "source": [
    "features_train,features_test,target_train,target_test=train_test_split(features,target,test_size=0.2)"
   ]
  },
  {
   "cell_type": "code",
   "execution_count": null,
   "metadata": {
    "colab": {
     "base_uri": "https://localhost:8080/"
    },
    "id": "_yGB3wHH_f1F",
    "outputId": "5f3ff465-f6b7-42db-ee96-2a8003be5e5c"
   },
   "outputs": [],
   "source": [
    "features_train.shape"
   ]
  },
  {
   "cell_type": "code",
   "execution_count": null,
   "metadata": {
    "colab": {
     "base_uri": "https://localhost:8080/"
    },
    "id": "6RvASksp_f1F",
    "outputId": "7e4d1601-cb90-4ff0-a120-e28f58db0f04"
   },
   "outputs": [],
   "source": [
    "target_train.shape"
   ]
  },
  {
   "cell_type": "code",
   "execution_count": null,
   "metadata": {
    "colab": {
     "base_uri": "https://localhost:8080/"
    },
    "id": "BW8guRAG_f1G",
    "outputId": "0ca82da5-4fd8-4474-c012-bc5ce2545411"
   },
   "outputs": [],
   "source": [
    "features_test.shape"
   ]
  },
  {
   "cell_type": "code",
   "execution_count": null,
   "metadata": {
    "colab": {
     "base_uri": "https://localhost:8080/"
    },
    "id": "en9JeRHs_f1G",
    "outputId": "7e080b33-6744-4b74-f1a5-228eda4a916f"
   },
   "outputs": [],
   "source": [
    "target_test.shape"
   ]
  },
  {
   "cell_type": "code",
   "execution_count": null,
   "metadata": {
    "id": "lbjTHdYLBGhP"
   },
   "outputs": [],
   "source": [
    "#converting colored images to b/w"
   ]
  },
  {
   "cell_type": "code",
   "execution_count": null,
   "metadata": {
    "id": "hjErZLAv_f1G"
   },
   "outputs": [],
   "source": [
    "def preprocessing(image):\n",
    "    image=cv2.cvtColor(image,cv2.COLOR_BGR2GRAY)\n",
    "    image=image/255 \n",
    "    return image"
   ]
  },
  {
   "cell_type": "code",
   "execution_count": null,
   "metadata": {
    "id": "VST5n81m_f1H"
   },
   "outputs": [],
   "source": [
    "features_train=np.array(list(map(preprocessing,features_train)))"
   ]
  },
  {
   "cell_type": "code",
   "execution_count": null,
   "metadata": {
    "colab": {
     "base_uri": "https://localhost:8080/"
    },
    "id": "GzoGdjooSGQ2",
    "outputId": "0573e7ca-4279-4690-d992-6beb9868b4be"
   },
   "outputs": [],
   "source": [
    "features_train.shape"
   ]
  },
  {
   "cell_type": "code",
   "execution_count": null,
   "metadata": {
    "id": "TL5WPQWM_f1H"
   },
   "outputs": [],
   "source": [
    "features_train=features_train.reshape((1276, 244, 244,1))"
   ]
  },
  {
   "cell_type": "code",
   "execution_count": null,
   "metadata": {
    "id": "R6EQM9mp_f1H"
   },
   "outputs": [],
   "source": [
    "from keras.preprocessing.image import ImageDataGenerator"
   ]
  },
  {
   "cell_type": "code",
   "execution_count": null,
   "metadata": {
    "id": "eQp1IO2e_f1H"
   },
   "outputs": [],
   "source": [
    "dataGen=ImageDataGenerator(rotation_range=10,width_shift_range=0.1,height_shift_range=0.1,zoom_range=0.2,shear_range=0.1)"
   ]
  },
  {
   "cell_type": "code",
   "execution_count": null,
   "metadata": {
    "id": "mCQneDQq_f1H"
   },
   "outputs": [],
   "source": [
    "dataGen.fit(features_train)"
   ]
  },
  {
   "cell_type": "code",
   "execution_count": null,
   "metadata": {
    "id": "nMOB8iBF_f1I"
   },
   "outputs": [],
   "source": [
    "batches=dataGen.flow(features_train,target_train,batch_size=20)"
   ]
  },
  {
   "cell_type": "code",
   "execution_count": null,
   "metadata": {
    "id": "9o_Q1GW2_f1I"
   },
   "outputs": [],
   "source": [
    "images,labels=next(batches)"
   ]
  },
  {
   "cell_type": "code",
   "execution_count": null,
   "metadata": {
    "id": "DB-8CPOl_f1I"
   },
   "outputs": [],
   "source": [
    "import matplotlib.pyplot as plt"
   ]
  },
  {
   "cell_type": "code",
   "execution_count": null,
   "metadata": {
    "colab": {
     "base_uri": "https://localhost:8080/",
     "height": 573
    },
    "id": "ggtJZy7m_f1I",
    "outputId": "b03325c3-bfd7-472d-8958-96495e209e5e"
   },
   "outputs": [],
   "source": [
    "plt.figure(figsize=(10,10))\n",
    "for i in range(0,20):\n",
    "    plt.subplot(4,5,i+1)\n",
    "    plt.imshow(images[i].reshape(244,244))\n",
    "plt.show()"
   ]
  },
  {
   "cell_type": "code",
   "execution_count": null,
   "metadata": {
    "id": "0TMOW5Tw_f1I"
   },
   "outputs": [],
   "source": [
    "from tensorflow.keras.utils import to_categorical"
   ]
  },
  {
   "cell_type": "code",
   "execution_count": null,
   "metadata": {
    "id": "zMyMrtGe_f1I"
   },
   "outputs": [],
   "source": [
    "target_train=to_categorical(target_train)"
   ]
  },
  {
   "cell_type": "code",
   "execution_count": null,
   "metadata": {
    "colab": {
     "base_uri": "https://localhost:8080/"
    },
    "id": "0YYDahZX_f1J",
    "outputId": "7d345b9c-28d7-4791-9d28-7019d3639fd5"
   },
   "outputs": [],
   "source": [
    "target_train.shape"
   ]
  },
  {
   "cell_type": "code",
   "execution_count": null,
   "metadata": {
    "colab": {
     "base_uri": "https://localhost:8080/"
    },
    "id": "EzcATZ7__f1J",
    "outputId": "e9f89c2c-1ab5-4ba5-a845-e5e2c3bd888f"
   },
   "outputs": [],
   "source": [
    "features_train.shape"
   ]
  },
  {
   "cell_type": "code",
   "execution_count": null,
   "metadata": {
    "id": "SssTT3zHBdMX"
   },
   "outputs": [],
   "source": [
    "# STEP 1: specifying the architecture"
   ]
  },
  {
   "cell_type": "code",
   "execution_count": null,
   "metadata": {
    "id": "V_uGOYfv_f1J"
   },
   "outputs": [],
   "source": [
    "from keras.layers import Dense,Flatten,Conv2D,MaxPooling2D,Dropout\n",
    "from keras.models import Sequential\n",
    "from tensorflow.keras.applications import EfficientNetB0\n"
   ]
  },
  {
   "cell_type": "code",
   "execution_count": null,
   "metadata": {
    "id": "tTErh18Q_f1J"
   },
   "outputs": [],
   "source": [
    "conv_base=EfficientNetB0(weights=\"imagenet\",include_top=False,input_shape=(244,244,3))\n",
    "model=Sequential()\n",
    "model.add(conv_base)\n",
    "model.add(MaxPooling2D((3,3)))\n",
    "model.add(Dropout(0.5))\n",
    "model.add(Flatten())\n",
    "model.add(Dense(4,activation=\"sigmoid\"))"
   ]
  },
  {
   "cell_type": "code",
   "execution_count": null,
   "metadata": {
    "id": "BdkndPXQ_f1K"
   },
   "outputs": [],
   "source": [
    "from keras.optimizers import Adam"
   ]
  },
  {
   "cell_type": "code",
   "execution_count": null,
   "metadata": {
    "id": "zXa5X_IPBo6T"
   },
   "outputs": [],
   "source": [
    "# STEP 2: compiling the model"
   ]
  },
  {
   "cell_type": "code",
   "execution_count": null,
   "metadata": {
    "id": "9rbQQhD4_f1K"
   },
   "outputs": [],
   "source": [
    "model.compile(Adam(learning_rate=0.001),loss=\"binary_crossentropy\",metrics=[\"accuracy\"])"
   ]
  },
  {
   "cell_type": "code",
   "execution_count": null,
   "metadata": {
    "id": "TBYjPep7Bujz"
   },
   "outputs": [],
   "source": [
    "# STEP 3: training the model"
   ]
  },
  {
   "cell_type": "code",
   "execution_count": null,
   "metadata": {
    "colab": {
     "base_uri": "https://localhost:8080/"
    },
    "id": "aAyTBE3Y_f1K",
    "outputId": "ef1d4286-4ba5-4472-a228-bbfd00fe080b"
   },
   "outputs": [],
   "source": [
    "model.fit(dataGen.flow(features_train,target_train,batch_size=20),epochs=20)"
   ]
  },
  {
   "cell_type": "code",
   "execution_count": null,
   "metadata": {
    "id": "b-dYINRSCEED"
   },
   "outputs": [],
   "source": [
    "# STEP 4: testing the model by localizing the ageing signs"
   ]
  },
  {
   "cell_type": "code",
   "execution_count": null,
   "metadata": {
    "id": "y5u9FJTibjLf"
   },
   "outputs": [],
   "source": [
    "import numpy as np\n",
    "import cv2\n",
    " "
   ]
  },
  {
   "cell_type": "code",
   "execution_count": null,
   "metadata": {
    "colab": {
     "base_uri": "https://localhost:8080/",
     "height": 1000
    },
    "id": "k4LSkWPAbjOp",
    "outputId": "de13aee3-4814-4fca-9a78-8782421a38d5"
   },
   "outputs": [],
   "source": [
    "from google.colab.patches import cv2_imshow\n",
    "import argparse\n",
    "\n",
    "image=cv2.imread(\"/content/drive/MyDrive/03198defbf9905613bedbbdd2323228d.jpg\")\n",
    "imagearr=np.asarray(image)\n",
    "face_cascade = cv2.CascadeClassifier(cv2.data.haarcascades +\"haarcascade_frontalface_default.xml\")\n",
    "gray=cv2.cvtColor(image,cv2.COLOR_BGR2GRAY)\n",
    "faces=face_cascade.detectMultiScale(gray,1.05,5)\n",
    "labels=np.array(['clear_face','wrinkles','puffy','dark spots'],dtype='object')\n",
    "for (x,y,w,h) in faces:\n",
    "    detectedFace=image[x:x+w,y:y+h]\n",
    "    detectedFace=cv2.resize(detectedFace,(244,244))\n",
    "    detectedFace=preprocessing(detectedFace)\n",
    "    detectedFace=detectedFace.reshape(1,244,244,1)\n",
    "    predictions=model.predict(detectedFace)[0]\n",
    "     \n",
    "    cv2.rectangle(image,(x,y),(x+w,y+h),(0,0,255),2)\n",
    "    count =1\n",
    "    for i in predictions:\n",
    "        classname=labels[np.where(predictions==i)]\n",
    "        accuracy=i*100\n",
    "        label=\"{}:{:.2f}%\".format(classname,accuracy)\n",
    "        cv2.putText(image,label,(10,count *30+25),cv2.FONT_HERSHEY_SIMPLEX,1,(0,0,200),2)\n",
    "        count +=1\n",
    "        print(predictions)\n",
    "    cv2_imshow(image)\n",
    "    returnedValue=cv2.waitKey(1)\n",
    "    if returnedValue==ord(\"s\") or returnedValue==ord(\"S\"):\n",
    "        cv2.destroyAllWindows()\n",
    "        break"
   ]
  }
 ],
 "metadata": {
  "accelerator": "GPU",
  "colab": {
   "collapsed_sections": [],
   "name": "Copy of signs of ageing (1)-Copy1 (2).ipynb",
   "provenance": []
  },
  "kernelspec": {
   "display_name": "Python 3",
   "language": "python",
   "name": "python3"
  },
  "language_info": {
   "codemirror_mode": {
    "name": "ipython",
    "version": 3
   },
   "file_extension": ".py",
   "mimetype": "text/x-python",
   "name": "python",
   "nbconvert_exporter": "python",
   "pygments_lexer": "ipython3",
   "version": "3.8.5"
  }
 },
 "nbformat": 4,
 "nbformat_minor": 1
}
